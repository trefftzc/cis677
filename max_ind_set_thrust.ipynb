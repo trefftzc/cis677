{
  "nbformat": 4,
  "nbformat_minor": 0,
  "metadata": {
    "colab": {
      "provenance": [],
      "gpuType": "T4",
      "authorship_tag": "ABX9TyN9ZgzZFUAqJUn8h1Ep0bb1",
      "include_colab_link": true
    },
    "kernelspec": {
      "name": "python3",
      "display_name": "Python 3"
    },
    "language_info": {
      "name": "python"
    },
    "accelerator": "GPU"
  },
  "cells": [
    {
      "cell_type": "markdown",
      "metadata": {
        "id": "view-in-github",
        "colab_type": "text"
      },
      "source": [
        "<a href=\"https://colab.research.google.com/github/trefftzc/cis677/blob/main/max_ind_set_thrust.ipynb\" target=\"_parent\"><img src=\"https://colab.research.google.com/assets/colab-badge.svg\" alt=\"Open In Colab\"/></a>"
      ]
    },
    {
      "cell_type": "code",
      "execution_count": 48,
      "metadata": {
        "colab": {
          "base_uri": "https://localhost:8080/"
        },
        "id": "lvaVCFheCVeI",
        "outputId": "10617804-c4c3-4685-d81f-321c0ec6f462"
      },
      "outputs": [
        {
          "output_type": "stream",
          "name": "stdout",
          "text": [
            "Overwriting max_ind_set_thrust.cu\n"
          ]
        }
      ],
      "source": [
        "%%writefile max_ind_set_thrust.cu\n",
        "/*\n",
        " *\n",
        " * Solve the Maximum Independent Set problem on GPUs using Thrust\n",
        " *\n",
        " * https://en.wikipedia.org/wiki/Independent_set_(graph_theory)\n",
        " * This code works for graphs of up to 32 nodes\n",
        " * The input is expected to be as follows:\n",
        " * The first line will contain n, the number of elements in the multiset\n",
        " * The remaining n lines will contain the adjacency matrix\n",
        " */\n",
        "#include <thrust/host_vector.h>\n",
        "#include <thrust/device_vector.h>\n",
        "#include <thrust/sequence.h>\n",
        "#include <thrust/reduce.h>\n",
        "#include <thrust/functional.h>\n",
        "#include <thrust/execution_policy.h>\n",
        "#include <thrust/transform.h>\n",
        "\n",
        "\n",
        "#include <iostream>\n",
        "#include <string>\n",
        "#include <sstream>\n",
        "#include <vector>\n",
        "\n",
        "using namespace std;\n",
        "\n",
        "const int MAX_GRAPH_SIZE = 32;\n",
        "// This functions evaluates a particular subset of nodes.\n",
        "// adjMat is the adjacency\n",
        "// n is the size of the number of nodes in the graph\n",
        "// value is an integer value. The binary code of value\n",
        "//\n",
        "struct evaluateSubSet\n",
        "{\n",
        "\n",
        "  const int n;\n",
        "  const int *adjMat;\n",
        "\n",
        "  evaluateSubSet(int _n,int *_adjMat) : n(_n),adjMat(_adjMat) {}\n",
        "    __device__\n",
        "\n",
        "int operator()(const int value ) {\n",
        "  int  set[MAX_GRAPH_SIZE];\n",
        "  unsigned int mask = 1;\n",
        "  int bitCount = 0;\n",
        "  for(int i = 0;i < n;i++) {\n",
        "    if ((mask & value) != 0) {\n",
        "      set[i] = 1;\n",
        "      bitCount++;\n",
        "    }\n",
        "    else {\n",
        "      set[i] = 0;\n",
        "    }\n",
        "    mask = mask * 2;\n",
        "  }\n",
        "  for(int i = 0;i < n;i++) {\n",
        "    for(int j = i+1;j < n;j++) {\n",
        "      if (set[i] == 1 && set[j] == 1 && adjMat[i*n+j] == 1) {\n",
        "        return 0;\n",
        "      }\n",
        "    }\n",
        "  }\n",
        "  return bitCount;\n",
        "}\n",
        "};\n",
        "\n",
        "// Print results\n",
        "void printResults(unsigned int value,int n)\n",
        "{\n",
        "unsigned int mask = 1;\n",
        "\n",
        "  cout << \"An independent set with the maximum number of nodes is: \" << endl;\n",
        "  for(int i = 0;i < n;i++) {\n",
        "    if ((mask & value) != 0) {\n",
        "      cout << i << \" \";\n",
        "    }\n",
        "    mask = mask * 2;\n",
        "  }\n",
        "  cout << endl;\n",
        "}\n",
        "\n",
        "// The main function\n",
        "int main() {\n",
        "\n",
        "  int n;\n",
        "\n",
        "// The format of the input is\n",
        "// an integer value n with the size of the multiset\n",
        "// n integer values with the multiset\n",
        "\n",
        "  thrust::host_vector < thrust::host_vector < int> > adjMat;\n",
        "  string line;\n",
        "  getline(cin,line);\n",
        "  stringstream ss(line);\n",
        "  ss >> n;\n",
        "  // Read input line by line until EOF\n",
        "  while (std::getline(cin, line)) {\n",
        "        stringstream ss(line);\n",
        "        thrust::host_vector < int > row;\n",
        "        int num;\n",
        "        while (ss >> num) {\n",
        "          //cout << num << \" \";\n",
        "          row.push_back(num);\n",
        "        }\n",
        "        //cout << \"Size of row: \" << row.size() << endl;\n",
        "        adjMat.push_back(row);\n",
        "        //cout << endl;\n",
        "  }\n",
        "  cout << \"The size of the graph is: \" << n << endl;\n",
        "  cout << \"The number of rows in the adjacency matrix is: \" << adjMat.size() << endl;\n",
        "  cout << \"The number of columns in the adjacency matrix is: \" << adjMat[0].size() << endl;\n",
        "\n",
        "// Print the adjacency matrix\n",
        "\n",
        "  cout << \"The adjacency matrix is : \" << endl;\n",
        "  for(int i = 0;i < n;i++) {\n",
        "    for(int j = 0;j < n;j++) {\n",
        "      cout << adjMat[i][j] << \" \";\n",
        "    }\n",
        "    cout << endl;\n",
        "  }\n",
        "// Convert the adjacency matrix to a 1D array in the GPU\n",
        "thrust::device_vector < int > device_adjMat_as_array(n*n);\n",
        "for(int i = 0;i < n;i++) {\n",
        "  for(int j = 0;j < n;j++) {\n",
        "    device_adjMat_as_array[i*n+j] = adjMat[i][j];\n",
        "  }\n",
        "}\n",
        "// Calculate the set of the power set\n",
        "  unsigned int powerOf2 = 1;\n",
        "  for(int i = 0;i < n;i++) {\n",
        "    powerOf2 = powerOf2 * 2;\n",
        "  }\n",
        "\n",
        "  // is_solution will contain the results of the evaluation\n",
        "  // It is allocated in the GPU memory\n",
        "  thrust::device_vector < int > is_solution(powerOf2);\n",
        "\n",
        "  // encodingOfSubset will contain the sequence of integer values\n",
        "  // that encode all the possible subsets\n",
        "  // It is allocated in the GPU memory\n",
        "  thrust::device_vector < int > encodingOfSubset(powerOf2);\n",
        "\n",
        "  //  The sequence function in Thrust initializes the array\n",
        "  // encodingOfSubset with the sequence of integer values\n",
        "  // from 0 to powerOf2-1\n",
        "    thrust::sequence(encodingOfSubset.begin(),encodingOfSubset.end());\n",
        "\n",
        "\n",
        "\n",
        "    // Instantiate the functor\n",
        "\n",
        "    evaluateSubSet ef(n,thrust::raw_pointer_cast(device_adjMat_as_array.data()));\n",
        "    // cout << \"Instantiated functor \" << endl;\n",
        "    // Execute the kernel. In this case a C++ functor\n",
        "    // transform applies a functor to the input parameters\n",
        "    // and leaves the result in the last parameter\n",
        "    thrust::transform(encodingOfSubset.begin(), encodingOfSubset.end(),\n",
        "                        is_solution.begin(), ef);\n",
        "    // cout << \"Performed transformation.\" << endl;\n",
        "    int result = thrust::reduce(\n",
        "                            is_solution.begin(),is_solution.end(),\n",
        "                            0,\n",
        "                            thrust::maximum());\n",
        "\n",
        "  cout << \"The maximum number of nodes in the independent set is: \" << result << endl;\n",
        "  thrust::device_vector<int>::iterator iter;\n",
        "\n",
        "  iter = thrust::find(thrust::device, is_solution.begin(), is_solution.end(), result);\n",
        "  int index = iter - is_solution.begin();\n",
        "  printResults(index,n);\n",
        "  return 0;\n",
        "}"
      ]
    },
    {
      "cell_type": "code",
      "source": [
        "!nvcc -Icccl/thrust -Icccl/libcudacxx/include -Icccl/cub max_ind_set_thrust.cu -o max_ind_set_thrust -arch sm_75\n"
      ],
      "metadata": {
        "id": "3Y5x55AnpW_u"
      },
      "execution_count": 49,
      "outputs": []
    },
    {
      "cell_type": "code",
      "source": [
        "%%writefile k16.txt\n",
        "16\n",
        "0 1 1 1 1 1 1 1 1 1 1 1 1 1 1 1\n",
        "1 0 1 1 1 1 1 1 1 1 1 1 1 1 1 1\n",
        "1 1 0 1 1 1 1 1 1 1 1 1 1 1 1 1\n",
        "1 1 1 0 1 1 1 1 1 1 1 1 1 1 1 1\n",
        "1 1 1 1 0 1 1 1 1 1 1 1 1 1 1 1\n",
        "1 1 1 1 1 0 1 1 1 1 1 1 1 1 1 1\n",
        "1 1 1 1 1 1 0 1 1 1 1 1 1 1 1 1\n",
        "1 1 1 1 1 1 1 0 1 1 1 1 1 1 1 1\n",
        "1 1 1 1 1 1 1 1 0 1 1 1 1 1 1 1\n",
        "1 1 1 1 1 1 1 1 1 0 1 1 1 1 1 1\n",
        "1 1 1 1 1 1 1 1 1 1 0 1 1 1 1 1\n",
        "1 1 1 1 1 1 1 1 1 1 1 0 1 1 1 1\n",
        "1 1 1 1 1 1 1 1 1 1 1 1 0 1 1 1\n",
        "1 1 1 1 1 1 1 1 1 1 1 1 1 0 1 1\n",
        "1 1 1 1 1 1 1 1 1 1 1 1 1 1 0 1\n",
        "1 1 1 1 1 1 1 1 1 1 1 1 1 1 1 0"
      ],
      "metadata": {
        "colab": {
          "base_uri": "https://localhost:8080/"
        },
        "id": "3Vr-7heosVrR",
        "outputId": "61a0de85-af86-4578-cf41-3731616580f0"
      },
      "execution_count": 28,
      "outputs": [
        {
          "output_type": "stream",
          "name": "stdout",
          "text": [
            "Writing k16.txt\n"
          ]
        }
      ]
    },
    {
      "cell_type": "code",
      "source": [
        "!time ./max_ind_set_thrust < k16.txt"
      ],
      "metadata": {
        "colab": {
          "base_uri": "https://localhost:8080/"
        },
        "id": "PLq-8dY5sXN-",
        "outputId": "54020a3f-8ba4-4c77-d7dd-103ce0fb0680"
      },
      "execution_count": 50,
      "outputs": [
        {
          "output_type": "stream",
          "name": "stdout",
          "text": [
            "The size of the graph is: 16\n",
            "The number of rows in the adjacency matrix is: 16\n",
            "The number of columns in the adjacency matrix is: 16\n",
            "The adjacency matrix is : \n",
            "0 1 1 1 1 1 1 1 1 1 1 1 1 1 1 1 \n",
            "1 0 1 1 1 1 1 1 1 1 1 1 1 1 1 1 \n",
            "1 1 0 1 1 1 1 1 1 1 1 1 1 1 1 1 \n",
            "1 1 1 0 1 1 1 1 1 1 1 1 1 1 1 1 \n",
            "1 1 1 1 0 1 1 1 1 1 1 1 1 1 1 1 \n",
            "1 1 1 1 1 0 1 1 1 1 1 1 1 1 1 1 \n",
            "1 1 1 1 1 1 0 1 1 1 1 1 1 1 1 1 \n",
            "1 1 1 1 1 1 1 0 1 1 1 1 1 1 1 1 \n",
            "1 1 1 1 1 1 1 1 0 1 1 1 1 1 1 1 \n",
            "1 1 1 1 1 1 1 1 1 0 1 1 1 1 1 1 \n",
            "1 1 1 1 1 1 1 1 1 1 0 1 1 1 1 1 \n",
            "1 1 1 1 1 1 1 1 1 1 1 0 1 1 1 1 \n",
            "1 1 1 1 1 1 1 1 1 1 1 1 0 1 1 1 \n",
            "1 1 1 1 1 1 1 1 1 1 1 1 1 0 1 1 \n",
            "1 1 1 1 1 1 1 1 1 1 1 1 1 1 0 1 \n",
            "1 1 1 1 1 1 1 1 1 1 1 1 1 1 1 0 \n",
            "The maximum number of nodes in the independent set is: 1\n",
            "An independent set with the maximum number of nodes is: \n",
            "0 \n",
            "\n",
            "real\t0m0.135s\n",
            "user\t0m0.017s\n",
            "sys\t0m0.110s\n"
          ]
        }
      ]
    },
    {
      "cell_type": "code",
      "source": [
        "%%writefile test16b.txt\n",
        "16\n",
        "0 0 0 0 0 0 1 1 1 1 1 1 1 1 1 1\n",
        "0 0 0 0 0 0 1 1 1 1 1 1 1 1 1 1\n",
        "0 0 0 0 0 0 1 1 1 1 1 1 1 1 1 1\n",
        "0 0 0 0 0 0 1 1 1 1 1 1 1 1 1 1\n",
        "0 0 0 0 0 0 1 1 1 1 1 1 1 1 1 1\n",
        "0 0 0 0 0 0 1 1 1 1 1 1 1 1 1 1\n",
        "1 1 1 1 1 1 0 1 1 1 1 1 1 1 1 1\n",
        "1 1 1 1 1 1 1 0 1 1 1 1 1 1 1 1\n",
        "1 1 1 1 1 1 1 1 0 1 1 1 1 1 1 1\n",
        "1 1 1 1 1 1 1 1 1 0 1 1 1 1 1 1\n",
        "1 1 1 1 1 1 1 1 1 1 0 1 1 1 1 1\n",
        "1 1 1 1 1 1 1 1 1 1 1 0 1 1 1 1\n",
        "1 1 1 1 1 1 1 1 1 1 1 1 0 1 1 1\n",
        "1 1 1 1 1 1 1 1 1 1 1 1 1 0 1 1\n",
        "1 1 1 1 1 1 1 1 1 1 1 1 1 1 0 1\n",
        "1 1 1 1 1 1 1 1 1 1 1 1 1 1 1 0"
      ],
      "metadata": {
        "colab": {
          "base_uri": "https://localhost:8080/"
        },
        "id": "97BCG43Mt_On",
        "outputId": "6a4bbfc8-f7cd-41af-d8d7-b8d74a452be6"
      },
      "execution_count": 51,
      "outputs": [
        {
          "output_type": "stream",
          "name": "stdout",
          "text": [
            "Overwriting test16b.txt\n"
          ]
        }
      ]
    },
    {
      "cell_type": "code",
      "source": [
        "!time ./max_ind_set_thrust < test16b.txt"
      ],
      "metadata": {
        "colab": {
          "base_uri": "https://localhost:8080/"
        },
        "id": "zu6_XUC8uCHO",
        "outputId": "4ca7e908-548c-4374-ab92-6ac01800b0bb"
      },
      "execution_count": 52,
      "outputs": [
        {
          "output_type": "stream",
          "name": "stdout",
          "text": [
            "The size of the graph is: 16\n",
            "The number of rows in the adjacency matrix is: 16\n",
            "The number of columns in the adjacency matrix is: 16\n",
            "The adjacency matrix is : \n",
            "0 0 0 0 0 0 1 1 1 1 1 1 1 1 1 1 \n",
            "0 0 0 0 0 0 1 1 1 1 1 1 1 1 1 1 \n",
            "0 0 0 0 0 0 1 1 1 1 1 1 1 1 1 1 \n",
            "0 0 0 0 0 0 1 1 1 1 1 1 1 1 1 1 \n",
            "0 0 0 0 0 0 1 1 1 1 1 1 1 1 1 1 \n",
            "0 0 0 0 0 0 1 1 1 1 1 1 1 1 1 1 \n",
            "1 1 1 1 1 1 0 1 1 1 1 1 1 1 1 1 \n",
            "1 1 1 1 1 1 1 0 1 1 1 1 1 1 1 1 \n",
            "1 1 1 1 1 1 1 1 0 1 1 1 1 1 1 1 \n",
            "1 1 1 1 1 1 1 1 1 0 1 1 1 1 1 1 \n",
            "1 1 1 1 1 1 1 1 1 1 0 1 1 1 1 1 \n",
            "1 1 1 1 1 1 1 1 1 1 1 0 1 1 1 1 \n",
            "1 1 1 1 1 1 1 1 1 1 1 1 0 1 1 1 \n",
            "1 1 1 1 1 1 1 1 1 1 1 1 1 0 1 1 \n",
            "1 1 1 1 1 1 1 1 1 1 1 1 1 1 0 1 \n",
            "1 1 1 1 1 1 1 1 1 1 1 1 1 1 1 0 \n",
            "The maximum number of nodes in the independent set is: 6\n",
            "An independent set with the maximum number of nodes is: \n",
            "0 1 2 3 4 5 \n",
            "\n",
            "real\t0m0.133s\n",
            "user\t0m0.017s\n",
            "sys\t0m0.109s\n"
          ]
        }
      ]
    },
    {
      "cell_type": "code",
      "source": [
        "%%writefile test16c.txt\n",
        "16\n",
        "0 0 0 0 0 0 1 1 1 1 1 1 1 1 1 1\n",
        "0 0 0 0 0 0 1 1 1 1 1 1 1 1 1 1\n",
        "0 0 0 0 0 0 1 1 1 1 1 1 1 1 1 1\n",
        "0 0 0 0 0 0 1 1 1 1 1 1 1 1 1 1\n",
        "0 0 0 0 0 0 1 1 1 1 1 1 1 1 1 1\n",
        "0 0 0 0 0 0 1 1 1 1 1 1 1 1 1 1\n",
        "1 1 1 1 1 1 0 1 1 1 1 1 1 1 1 1\n",
        "1 1 1 1 1 1 1 0 1 1 1 1 1 1 1 1\n",
        "1 1 1 1 1 1 1 1 0 1 1 1 1 1 1 1\n",
        "1 1 1 1 1 1 1 1 1 0 1 1 1 1 1 1\n",
        "1 1 1 1 1 1 1 1 1 1 0 1 1 1 1 1\n",
        "1 1 1 1 1 1 1 1 1 1 1 0 1 1 1 1\n",
        "1 1 1 1 1 1 1 1 1 1 1 1 0 1 1 1\n",
        "1 1 1 1 1 1 1 1 1 1 1 1 1 0 0 0\n",
        "1 1 1 1 1 1 1 1 1 1 1 1 1 0 0 0\n",
        "1 1 1 1 1 1 1 1 1 1 1 1 1 0 0 0"
      ],
      "metadata": {
        "colab": {
          "base_uri": "https://localhost:8080/"
        },
        "id": "nugjPl-kuINO",
        "outputId": "8b158e66-8800-4a1b-e993-58a23088b91f"
      },
      "execution_count": 44,
      "outputs": [
        {
          "output_type": "stream",
          "name": "stdout",
          "text": [
            "Writing test16c.txt\n"
          ]
        }
      ]
    },
    {
      "cell_type": "code",
      "source": [
        "!time ./max_ind_set_thrust < test16c.txt"
      ],
      "metadata": {
        "colab": {
          "base_uri": "https://localhost:8080/"
        },
        "id": "i35rG_qBuKjY",
        "outputId": "0a206cb0-94eb-48e8-def7-d96047e8329b"
      },
      "execution_count": 53,
      "outputs": [
        {
          "output_type": "stream",
          "name": "stdout",
          "text": [
            "The size of the graph is: 16\n",
            "The number of rows in the adjacency matrix is: 16\n",
            "The number of columns in the adjacency matrix is: 16\n",
            "The adjacency matrix is : \n",
            "0 0 0 0 0 0 1 1 1 1 1 1 1 1 1 1 \n",
            "0 0 0 0 0 0 1 1 1 1 1 1 1 1 1 1 \n",
            "0 0 0 0 0 0 1 1 1 1 1 1 1 1 1 1 \n",
            "0 0 0 0 0 0 1 1 1 1 1 1 1 1 1 1 \n",
            "0 0 0 0 0 0 1 1 1 1 1 1 1 1 1 1 \n",
            "0 0 0 0 0 0 1 1 1 1 1 1 1 1 1 1 \n",
            "1 1 1 1 1 1 0 1 1 1 1 1 1 1 1 1 \n",
            "1 1 1 1 1 1 1 0 1 1 1 1 1 1 1 1 \n",
            "1 1 1 1 1 1 1 1 0 1 1 1 1 1 1 1 \n",
            "1 1 1 1 1 1 1 1 1 0 1 1 1 1 1 1 \n",
            "1 1 1 1 1 1 1 1 1 1 0 1 1 1 1 1 \n",
            "1 1 1 1 1 1 1 1 1 1 1 0 1 1 1 1 \n",
            "1 1 1 1 1 1 1 1 1 1 1 1 0 1 1 1 \n",
            "1 1 1 1 1 1 1 1 1 1 1 1 1 0 0 0 \n",
            "1 1 1 1 1 1 1 1 1 1 1 1 1 0 0 0 \n",
            "1 1 1 1 1 1 1 1 1 1 1 1 1 0 0 0 \n",
            "The maximum number of nodes in the independent set is: 6\n",
            "An independent set with the maximum number of nodes is: \n",
            "0 1 2 3 4 5 \n",
            "\n",
            "real\t0m0.136s\n",
            "user\t0m0.018s\n",
            "sys\t0m0.110s\n"
          ]
        }
      ]
    },
    {
      "cell_type": "code",
      "source": [
        "%%writefile k20.txt\n",
        "20\n",
        "0 1 1 1 1 1 1 1 1 1 1 1 1 1 1 1 1 1 1 1\n",
        "1 0 1 1 1 1 1 1 1 1 1 1 1 1 1 1 1 1 1 1\n",
        "1 1 0 1 1 1 1 1 1 1 1 1 1 1 1 1 1 1 1 1\n",
        "1 1 1 0 1 1 1 1 1 1 1 1 1 1 1 1 1 1 1 1\n",
        "1 1 1 1 0 1 1 1 1 1 1 1 1 1 1 1 1 1 1 1\n",
        "1 1 1 1 1 0 1 1 1 1 1 1 1 1 1 1 1 1 1 1\n",
        "1 1 1 1 1 1 0 1 1 1 1 1 1 1 1 1 1 1 1 1\n",
        "1 1 1 1 1 1 1 0 1 1 1 1 1 1 1 1 1 1 1 1\n",
        "1 1 1 1 1 1 1 1 0 1 1 1 1 1 1 1 1 1 1 1\n",
        "1 1 1 1 1 1 1 1 1 0 1 1 1 1 1 1 1 1 1 1\n",
        "1 1 1 1 1 1 1 1 1 1 0 1 1 1 1 1 1 1 1 1\n",
        "1 1 1 1 1 1 1 1 1 1 1 0 1 1 1 1 1 1 1 1\n",
        "1 1 1 1 1 1 1 1 1 1 1 1 0 1 1 1 1 1 1 1\n",
        "1 1 1 1 1 1 1 1 1 1 1 1 1 0 1 1 1 1 1 1\n",
        "1 1 1 1 1 1 1 1 1 1 1 1 1 1 0 1 1 1 1 1\n",
        "1 1 1 1 1 1 1 1 1 1 1 1 1 1 1 0 1 1 1 1\n",
        "1 1 1 1 1 1 1 1 1 1 1 1 1 1 1 1 0 1 1 1\n",
        "1 1 1 1 1 1 1 1 1 1 1 1 1 1 1 1 1 0 1 1\n",
        "1 1 1 1 1 1 1 1 1 1 1 1 1 1 1 1 1 1 0 1\n",
        "1 1 1 1 1 1 1 1 1 1 1 1 1 1 1 1 1 1 1 0"
      ],
      "metadata": {
        "colab": {
          "base_uri": "https://localhost:8080/"
        },
        "id": "0EmZ6_LxuUIX",
        "outputId": "702508cb-82d0-49ef-f426-6cf74727f7d2"
      },
      "execution_count": 46,
      "outputs": [
        {
          "output_type": "stream",
          "name": "stdout",
          "text": [
            "Writing k20.txt\n"
          ]
        }
      ]
    },
    {
      "cell_type": "code",
      "source": [
        "!time ./max_ind_set_thrust < k20.txt"
      ],
      "metadata": {
        "colab": {
          "base_uri": "https://localhost:8080/"
        },
        "id": "bF3FtnUcuWgw",
        "outputId": "db1825d6-133a-434b-d55a-6829b07cf571"
      },
      "execution_count": 54,
      "outputs": [
        {
          "output_type": "stream",
          "name": "stdout",
          "text": [
            "The size of the graph is: 20\n",
            "The number of rows in the adjacency matrix is: 20\n",
            "The number of columns in the adjacency matrix is: 20\n",
            "The adjacency matrix is : \n",
            "0 1 1 1 1 1 1 1 1 1 1 1 1 1 1 1 1 1 1 1 \n",
            "1 0 1 1 1 1 1 1 1 1 1 1 1 1 1 1 1 1 1 1 \n",
            "1 1 0 1 1 1 1 1 1 1 1 1 1 1 1 1 1 1 1 1 \n",
            "1 1 1 0 1 1 1 1 1 1 1 1 1 1 1 1 1 1 1 1 \n",
            "1 1 1 1 0 1 1 1 1 1 1 1 1 1 1 1 1 1 1 1 \n",
            "1 1 1 1 1 0 1 1 1 1 1 1 1 1 1 1 1 1 1 1 \n",
            "1 1 1 1 1 1 0 1 1 1 1 1 1 1 1 1 1 1 1 1 \n",
            "1 1 1 1 1 1 1 0 1 1 1 1 1 1 1 1 1 1 1 1 \n",
            "1 1 1 1 1 1 1 1 0 1 1 1 1 1 1 1 1 1 1 1 \n",
            "1 1 1 1 1 1 1 1 1 0 1 1 1 1 1 1 1 1 1 1 \n",
            "1 1 1 1 1 1 1 1 1 1 0 1 1 1 1 1 1 1 1 1 \n",
            "1 1 1 1 1 1 1 1 1 1 1 0 1 1 1 1 1 1 1 1 \n",
            "1 1 1 1 1 1 1 1 1 1 1 1 0 1 1 1 1 1 1 1 \n",
            "1 1 1 1 1 1 1 1 1 1 1 1 1 0 1 1 1 1 1 1 \n",
            "1 1 1 1 1 1 1 1 1 1 1 1 1 1 0 1 1 1 1 1 \n",
            "1 1 1 1 1 1 1 1 1 1 1 1 1 1 1 0 1 1 1 1 \n",
            "1 1 1 1 1 1 1 1 1 1 1 1 1 1 1 1 0 1 1 1 \n",
            "1 1 1 1 1 1 1 1 1 1 1 1 1 1 1 1 1 0 1 1 \n",
            "1 1 1 1 1 1 1 1 1 1 1 1 1 1 1 1 1 1 0 1 \n",
            "1 1 1 1 1 1 1 1 1 1 1 1 1 1 1 1 1 1 1 0 \n",
            "The maximum number of nodes in the independent set is: 1\n",
            "An independent set with the maximum number of nodes is: \n",
            "0 \n",
            "\n",
            "real\t0m0.164s\n",
            "user\t0m0.022s\n",
            "sys\t0m0.129s\n"
          ]
        }
      ]
    }
  ]
}