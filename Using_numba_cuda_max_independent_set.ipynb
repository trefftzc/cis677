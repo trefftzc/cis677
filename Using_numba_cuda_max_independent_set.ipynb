{
  "nbformat": 4,
  "nbformat_minor": 0,
  "metadata": {
    "colab": {
      "provenance": [],
      "gpuType": "T4",
      "authorship_tag": "ABX9TyPxQ9wR4vhXinYmYeNWovUe",
      "include_colab_link": true
    },
    "kernelspec": {
      "name": "python3",
      "display_name": "Python 3"
    },
    "language_info": {
      "name": "python"
    },
    "accelerator": "GPU"
  },
  "cells": [
    {
      "cell_type": "markdown",
      "metadata": {
        "id": "view-in-github",
        "colab_type": "text"
      },
      "source": [
        "<a href=\"https://colab.research.google.com/github/trefftzc/cis677/blob/main/Using_numba_cuda_max_independent_set.ipynb\" target=\"_parent\"><img src=\"https://colab.research.google.com/assets/colab-badge.svg\" alt=\"Open In Colab\"/></a>"
      ]
    },
    {
      "cell_type": "code",
      "source": [
        "import os\n",
        "os.environ['NUMBAPRO_LIBDEVICE'] = \"/usr/local/cuda-12.5/nvvm/libdevice\"\n",
        "os.environ['NUMBAPRO_NVVM'] = \"/usr/local/cuda-12.5/nvvm/lib64/libnvvm.so\""
      ],
      "metadata": {
        "id": "VcbKrJXJVsJC"
      },
      "execution_count": 11,
      "outputs": []
    },
    {
      "cell_type": "code",
      "source": [
        "!uv pip install -q --system numba-cuda==0.15"
      ],
      "metadata": {
        "id": "AH3G8QOJVwJ6"
      },
      "execution_count": 12,
      "outputs": []
    },
    {
      "cell_type": "code",
      "source": [
        "from numba import config\n",
        "config.CUDA_ENABLE_PYNVJITLINK = 1"
      ],
      "metadata": {
        "id": "-pFjhcm_V0TR"
      },
      "execution_count": 13,
      "outputs": []
    },
    {
      "cell_type": "code",
      "source": [
        "%%writefile k16.txt\n",
        "16\n",
        "0 1 1 1 1 1 1 1 1 1 1 1 1 1 1 1\n",
        "1 0 1 1 1 1 1 1 1 1 1 1 1 1 1 1\n",
        "1 1 0 1 1 1 1 1 1 1 1 1 1 1 1 1\n",
        "1 1 1 0 1 1 1 1 1 1 1 1 1 1 1 1\n",
        "1 1 1 1 0 1 1 1 1 1 1 1 1 1 1 1\n",
        "1 1 1 1 1 0 1 1 1 1 1 1 1 1 1 1\n",
        "1 1 1 1 1 1 0 1 1 1 1 1 1 1 1 1\n",
        "1 1 1 1 1 1 1 0 1 1 1 1 1 1 1 1\n",
        "1 1 1 1 1 1 1 1 0 1 1 1 1 1 1 1\n",
        "1 1 1 1 1 1 1 1 1 0 1 1 1 1 1 1\n",
        "1 1 1 1 1 1 1 1 1 1 0 1 1 1 1 1\n",
        "1 1 1 1 1 1 1 1 1 1 1 0 1 1 1 1\n",
        "1 1 1 1 1 1 1 1 1 1 1 1 0 1 1 1\n",
        "1 1 1 1 1 1 1 1 1 1 1 1 1 0 1 1\n",
        "1 1 1 1 1 1 1 1 1 1 1 1 1 1 0 1\n",
        "1 1 1 1 1 1 1 1 1 1 1 1 1 1 1 0"
      ],
      "metadata": {
        "colab": {
          "base_uri": "https://localhost:8080/"
        },
        "id": "jdX19q9DViIU",
        "outputId": "d4f357b7-50f1-4cda-dc6a-67de5eee427c"
      },
      "execution_count": 14,
      "outputs": [
        {
          "output_type": "stream",
          "name": "stdout",
          "text": [
            "Overwriting k16.txt\n"
          ]
        }
      ]
    },
    {
      "cell_type": "code",
      "source": [
        "%%writefile k18.txt\n",
        "18\n",
        "0 1 1 1 1 1 1 1 1 1 1 1 1 1 1 1 1 1\n",
        "1 0 1 1 1 1 1 1 1 1 1 1 1 1 1 1 1 1\n",
        "1 1 0 1 1 1 1 1 1 1 1 1 1 1 1 1 1 1\n",
        "1 1 1 0 1 1 1 1 1 1 1 1 1 1 1 1 1 1\n",
        "1 1 1 1 0 1 1 1 1 1 1 1 1 1 1 1 1 1\n",
        "1 1 1 1 1 0 1 1 1 1 1 1 1 1 1 1 1 1\n",
        "1 1 1 1 1 1 0 1 1 1 1 1 1 1 1 1 1 1\n",
        "1 1 1 1 1 1 1 0 1 1 1 1 1 1 1 1 1 1\n",
        "1 1 1 1 1 1 1 1 0 1 1 1 1 1 1 1 1 1\n",
        "1 1 1 1 1 1 1 1 1 0 1 1 1 1 1 1 1 1\n",
        "1 1 1 1 1 1 1 1 1 1 0 1 1 1 1 1 1 1\n",
        "1 1 1 1 1 1 1 1 1 1 1 0 1 1 1 1 1 1\n",
        "1 1 1 1 1 1 1 1 1 1 1 1 0 1 1 1 1 1\n",
        "1 1 1 1 1 1 1 1 1 1 1 1 1 0 1 1 1 1\n",
        "1 1 1 1 1 1 1 1 1 1 1 1 1 1 0 1 1 1\n",
        "1 1 1 1 1 1 1 1 1 1 1 1 1 1 1 0 1 1\n",
        "1 1 1 1 1 1 1 1 1 1 1 1 1 1 1 1 0 1\n",
        "1 1 1 1 1 1 1 1 1 1 1 1 1 1 1 1 1 0"
      ],
      "metadata": {
        "colab": {
          "base_uri": "https://localhost:8080/"
        },
        "id": "BpU6ojmKLXfI",
        "outputId": "676d44bf-1052-480f-d251-bde9b686f41f"
      },
      "execution_count": 15,
      "outputs": [
        {
          "output_type": "stream",
          "name": "stdout",
          "text": [
            "Overwriting k18.txt\n"
          ]
        }
      ]
    },
    {
      "cell_type": "code",
      "source": [
        "%%writefile k20.txt\n",
        "20\n",
        "0 1 1 1 1 1 1 1 1 1 1 1 1 1 1 1 1 1 1 1\n",
        "1 0 1 1 1 1 1 1 1 1 1 1 1 1 1 1 1 1 1 1\n",
        "1 1 0 1 1 1 1 1 1 1 1 1 1 1 1 1 1 1 1 1\n",
        "1 1 1 0 1 1 1 1 1 1 1 1 1 1 1 1 1 1 1 1\n",
        "1 1 1 1 0 1 1 1 1 1 1 1 1 1 1 1 1 1 1 1\n",
        "1 1 1 1 1 0 1 1 1 1 1 1 1 1 1 1 1 1 1 1\n",
        "1 1 1 1 1 1 0 1 1 1 1 1 1 1 1 1 1 1 1 1\n",
        "1 1 1 1 1 1 1 0 1 1 1 1 1 1 1 1 1 1 1 1\n",
        "1 1 1 1 1 1 1 1 0 1 1 1 1 1 1 1 1 1 1 1\n",
        "1 1 1 1 1 1 1 1 1 0 1 1 1 1 1 1 1 1 1 1\n",
        "1 1 1 1 1 1 1 1 1 1 0 1 1 1 1 1 1 1 1 1\n",
        "1 1 1 1 1 1 1 1 1 1 1 0 1 1 1 1 1 1 1 1\n",
        "1 1 1 1 1 1 1 1 1 1 1 1 0 1 1 1 1 1 1 1\n",
        "1 1 1 1 1 1 1 1 1 1 1 1 1 0 1 1 1 1 1 1\n",
        "1 1 1 1 1 1 1 1 1 1 1 1 1 1 0 1 1 1 1 1\n",
        "1 1 1 1 1 1 1 1 1 1 1 1 1 1 1 0 1 1 1 1\n",
        "1 1 1 1 1 1 1 1 1 1 1 1 1 1 1 1 0 1 1 1\n",
        "1 1 1 1 1 1 1 1 1 1 1 1 1 1 1 1 1 0 1 1\n",
        "1 1 1 1 1 1 1 1 1 1 1 1 1 1 1 1 1 1 0 1\n",
        "1 1 1 1 1 1 1 1 1 1 1 1 1 1 1 1 1 1 1 0"
      ],
      "metadata": {
        "colab": {
          "base_uri": "https://localhost:8080/"
        },
        "id": "f5CHClbNLeKF",
        "outputId": "cb97791e-0d50-400b-85e7-59321a0131f8"
      },
      "execution_count": 16,
      "outputs": [
        {
          "output_type": "stream",
          "name": "stdout",
          "text": [
            "Overwriting k20.txt\n"
          ]
        }
      ]
    },
    {
      "cell_type": "code",
      "execution_count": 17,
      "metadata": {
        "colab": {
          "base_uri": "https://localhost:8080/"
        },
        "id": "4ktoAuWTTBuq",
        "outputId": "bd2ad59b-f920-4755-b5e2-b5cdcf7d0045"
      },
      "outputs": [
        {
          "output_type": "stream",
          "name": "stdout",
          "text": [
            "Overwriting python_cuda.py\n"
          ]
        }
      ],
      "source": [
        "%%writefile python_cuda.py\n",
        "import sys\n",
        "import time\n",
        "import numpy as np\n",
        "from numba import cuda\n",
        "\n",
        "#import cupy as cp\n",
        "\n",
        "# A reduction on the GPU\n",
        "@cuda.reduce\n",
        "def max_reduce(a, b):\n",
        "    if a < b:\n",
        "        return b\n",
        "    else:\n",
        "        return a\n",
        "\n",
        "def read_adjacency_matrix(file_name):\n",
        "  file_object = open(file_name, \"r\")\n",
        "  # Input the number of rows and columns\n",
        "  size = int(file_object.readline())\n",
        "  rows = size\n",
        "  cols = size\n",
        "  # Initialize an empty matrix\n",
        "  matrix = []\n",
        "\n",
        "  # Input the matrix elements\n",
        "  for i in range(rows):\n",
        "    row = list(map(int, file_object.readline().split()))\n",
        "    matrix.append(row)\n",
        "  return matrix,size\n",
        "\n",
        "@cuda.jit\n",
        "def convert_from_int_to_set(set_of_nodes,integer,size):\n",
        "  mask = 1\n",
        "  for i in range(size):\n",
        "    if ((mask & integer) != 0):\n",
        "      set_of_nodes[i] = 1\n",
        "    else:\n",
        "      set_of_nodes[i] = 0\n",
        "    mask = mask * 2\n",
        "\n",
        "\n",
        "@cuda.jit\n",
        "def kernel_find_max_ind_set(adj_mat,array_with_sizes,size,n_nodes):\n",
        "  i = cuda.grid(1)\n",
        "  #i = 3\n",
        "  if (i >= size):\n",
        "    return\n",
        "  set_of_nodes = cuda.local.array(32,dtype=np.float64)\n",
        "\n",
        "  convert_from_int_to_set(set_of_nodes,i,n_nodes)\n",
        "  is_independent = True\n",
        "\n",
        "  for n1 in range(n_nodes-1):\n",
        "    if (set_of_nodes[n1] == 1):\n",
        "      for n2 in range(n1+1,n_nodes):\n",
        "          if (set_of_nodes[n2] == 1):\n",
        "            if (adj_mat[n1*n_nodes+n2] == 1):\n",
        "              is_independent = False\n",
        "              break\n",
        "\n",
        "\n",
        "  if (is_independent==True):\n",
        "    countBits = 0\n",
        "    mask = 1\n",
        "    for index in range(n_nodes):\n",
        "      if ((mask & i) != 0):\n",
        "        countBits += 1\n",
        "      mask = mask * 2\n",
        "    array_with_sizes[i] = countBits\n",
        "  else:\n",
        "    array_with_sizes[i] = 0\n",
        "\n",
        "\n",
        "# Find the maximum independent set\n",
        "def find_max_ind_set(adj_matrix,size):\n",
        "\n",
        "  max_independent_set_size = 0\n",
        "\n",
        "\n",
        "  flat_adj_matrix = np.reshape(adj_matrix,size*size)\n",
        "\n",
        "  adj_mat_cuda = cuda.to_device(flat_adj_matrix)\n",
        "  size_of_power_set = 1\n",
        "  for i in range(size):\n",
        "    size_of_power_set *= 2\n",
        "  # print(\"The power set has \",size_of_power_set,\" elements\")\n",
        "\n",
        "  array_with_sizes = np.zeros(size_of_power_set,dtype=np.int32)\n",
        "  array_with_sizes_device = cuda.to_device(array_with_sizes)\n",
        "  cuda.synchronize()\n",
        "\n",
        "  threads_per_block = 256\n",
        "  blocks_per_grid = (size_of_power_set + threads_per_block - 1) // threads_per_block\n",
        "  # print(blocks_per_grid,threads_per_block)\n",
        "  kernel_find_max_ind_set[blocks_per_grid, threads_per_block](adj_mat_cuda,array_with_sizes_device,size_of_power_set,size)\n",
        "\n",
        "\n",
        "  cuda.synchronize()\n",
        "  array_with_sizes_device.copy_to_host(array_with_sizes)\n",
        "\n",
        "  max_independent_set_size = np.max(array_with_sizes)\n",
        "  return max_independent_set_size\n",
        "\n",
        "\n",
        "\n",
        "if __name__ == \"__main__\":\n",
        "# Read the content of the file passed in the command line\n",
        "# that contain the adjacency matrix of the graph\n",
        "# whose maximum independent set we are calculating\n",
        "\n",
        "  adj_matrix,size = read_adjacency_matrix(sys.argv[1])\n",
        "\n",
        "  start_time = time.time()\n",
        "  max_independent_set_size = find_max_ind_set(adj_matrix,size)\n",
        "  end_time = time.time()\n",
        "  elapsed_time = end_time - start_time\n",
        "  print(\"Time required to carry out the computation: \",elapsed_time)\n",
        "  print(\"The size of the maximum independent set is: \",max_independent_set_size)"
      ]
    },
    {
      "cell_type": "code",
      "source": [
        "!python python_cuda.py k16.txt"
      ],
      "metadata": {
        "colab": {
          "base_uri": "https://localhost:8080/"
        },
        "id": "5vF7XZrlV3kc",
        "outputId": "2964bdbc-821e-45e8-af14-45da8a2b635f"
      },
      "execution_count": 18,
      "outputs": [
        {
          "output_type": "stream",
          "name": "stdout",
          "text": [
            "Time required to carry out the computation:  0.5322046279907227\n",
            "The size of the maximum independent set is:  1\n"
          ]
        }
      ]
    },
    {
      "cell_type": "code",
      "source": [
        "!python python_cuda.py k18.txt"
      ],
      "metadata": {
        "colab": {
          "base_uri": "https://localhost:8080/"
        },
        "id": "TGwrQDMoLggV",
        "outputId": "df2a153a-e892-4a6e-9100-2c62531a08cf"
      },
      "execution_count": 19,
      "outputs": [
        {
          "output_type": "stream",
          "name": "stdout",
          "text": [
            "Time required to carry out the computation:  0.5314874649047852\n",
            "The size of the maximum independent set is:  1\n"
          ]
        }
      ]
    },
    {
      "cell_type": "code",
      "source": [
        "!python python_cuda.py k20.txt"
      ],
      "metadata": {
        "colab": {
          "base_uri": "https://localhost:8080/"
        },
        "id": "F-UouZITLo-G",
        "outputId": "47c6c647-0f44-4334-c5f5-ddaf6cc8a389"
      },
      "execution_count": 20,
      "outputs": [
        {
          "output_type": "stream",
          "name": "stdout",
          "text": [
            "Time required to carry out the computation:  0.513791561126709\n",
            "The size of the maximum independent set is:  1\n"
          ]
        }
      ]
    },
    {
      "cell_type": "markdown",
      "source": [
        "A different test file where four nodes are completely disconnected from each other. The maximum independent set for this graph is of size 4. The disconnected nodes are nodes 0 through 3."
      ],
      "metadata": {
        "id": "DK4U6EuTX_Iu"
      }
    },
    {
      "cell_type": "code",
      "source": [
        "%%writefile test16.txt\n",
        "16\n",
        "0 0 0 0 1 1 1 1 1 1 1 1 1 1 1 1\n",
        "0 0 0 0 1 1 1 1 1 1 1 1 1 1 1 1\n",
        "0 0 0 0 1 1 1 1 1 1 1 1 1 1 1 1\n",
        "0 0 0 0 1 1 1 1 1 1 1 1 1 1 1 1\n",
        "1 1 1 1 0 1 1 1 1 1 1 1 1 1 1 1\n",
        "1 1 1 1 1 0 1 1 1 1 1 1 1 1 1 1\n",
        "1 1 1 1 1 1 0 1 1 1 1 1 1 1 1 1\n",
        "1 1 1 1 1 1 1 0 1 1 1 1 1 1 1 1\n",
        "1 1 1 1 1 1 1 1 0 1 1 1 1 1 1 1\n",
        "1 1 1 1 1 1 1 1 1 0 1 1 1 1 1 1\n",
        "1 1 1 1 1 1 1 1 1 1 0 1 1 1 1 1\n",
        "1 1 1 1 1 1 1 1 1 1 1 0 1 1 1 1\n",
        "1 1 1 1 1 1 1 1 1 1 1 1 0 1 1 1\n",
        "1 1 1 1 1 1 1 1 1 1 1 1 1 0 1 1\n",
        "1 1 1 1 1 1 1 1 1 1 1 1 1 1 0 1\n",
        "1 1 1 1 1 1 1 1 1 1 1 1 1 1 1 0"
      ],
      "metadata": {
        "colab": {
          "base_uri": "https://localhost:8080/"
        },
        "id": "44og8ajcXrsX",
        "outputId": "a5392444-b40d-4b42-996b-4e1b7a7c1cc6"
      },
      "execution_count": 23,
      "outputs": [
        {
          "output_type": "stream",
          "name": "stdout",
          "text": [
            "Overwriting test16.txt\n"
          ]
        }
      ]
    },
    {
      "cell_type": "code",
      "source": [
        "!python python_cuda.py test16.txt"
      ],
      "metadata": {
        "colab": {
          "base_uri": "https://localhost:8080/"
        },
        "id": "BM6zOgGLX3VH",
        "outputId": "e4afd7de-1047-4816-c4a2-03efd6adca78"
      },
      "execution_count": 24,
      "outputs": [
        {
          "output_type": "stream",
          "name": "stdout",
          "text": [
            "Time required to carry out the computation:  0.5810809135437012\n",
            "The size of the maximum independent set is:  4\n"
          ]
        }
      ]
    },
    {
      "cell_type": "markdown",
      "source": [
        "Another  test file where six nodes are completely disconnected from each other. The maximum independent set for this graph is of size 6. The disconnected nodes are nodes 0 through 5."
      ],
      "metadata": {
        "id": "BWksBoyeYgRG"
      }
    },
    {
      "cell_type": "code",
      "source": [
        "%%writefile test16b.txt\n",
        "16\n",
        "0 0 0 0 0 0 1 1 1 1 1 1 1 1 1 1\n",
        "0 0 0 0 0 0 1 1 1 1 1 1 1 1 1 1\n",
        "0 0 0 0 0 0 1 1 1 1 1 1 1 1 1 1\n",
        "0 0 0 0 0 0 1 1 1 1 1 1 1 1 1 1\n",
        "0 0 0 0 0 0 1 1 1 1 1 1 1 1 1 1\n",
        "0 0 0 0 0 0 1 1 1 1 1 1 1 1 1 1\n",
        "1 1 1 1 1 1 0 1 1 1 1 1 1 1 1 1\n",
        "1 1 1 1 1 1 1 0 1 1 1 1 1 1 1 1\n",
        "1 1 1 1 1 1 1 1 0 1 1 1 1 1 1 1\n",
        "1 1 1 1 1 1 1 1 1 0 1 1 1 1 1 1\n",
        "1 1 1 1 1 1 1 1 1 1 0 1 1 1 1 1\n",
        "1 1 1 1 1 1 1 1 1 1 1 0 1 1 1 1\n",
        "1 1 1 1 1 1 1 1 1 1 1 1 0 1 1 1\n",
        "1 1 1 1 1 1 1 1 1 1 1 1 1 0 1 1\n",
        "1 1 1 1 1 1 1 1 1 1 1 1 1 1 0 1\n",
        "1 1 1 1 1 1 1 1 1 1 1 1 1 1 1 0"
      ],
      "metadata": {
        "colab": {
          "base_uri": "https://localhost:8080/"
        },
        "id": "BopoCgiVYP_Q",
        "outputId": "ca3d1249-506e-4472-9872-e4dbf42b4732"
      },
      "execution_count": 25,
      "outputs": [
        {
          "output_type": "stream",
          "name": "stdout",
          "text": [
            "Writing test16b.txt\n"
          ]
        }
      ]
    },
    {
      "cell_type": "code",
      "source": [
        "!python python_cuda.py test16b.txt"
      ],
      "metadata": {
        "colab": {
          "base_uri": "https://localhost:8080/"
        },
        "id": "mRVBUbsPYa8I",
        "outputId": "7413b013-f5f7-444b-9e6a-cf8ccc036782"
      },
      "execution_count": 26,
      "outputs": [
        {
          "output_type": "stream",
          "name": "stdout",
          "text": [
            "Time required to carry out the computation:  0.5642678737640381\n",
            "The size of the maximum independent set is:  6\n"
          ]
        }
      ]
    },
    {
      "cell_type": "code",
      "source": [
        "%%writefile test16c.txt\n",
        "16\n",
        "0 0 0 0 0 0 1 1 1 1 1 1 1 1 1 1\n",
        "0 0 0 0 0 0 1 1 1 1 1 1 1 1 1 1\n",
        "0 0 0 0 0 0 1 1 1 1 1 1 1 1 1 1\n",
        "0 0 0 0 0 0 1 1 1 1 1 1 1 1 1 1\n",
        "0 0 0 0 0 0 1 1 1 1 1 1 1 1 1 1\n",
        "0 0 0 0 0 0 1 1 1 1 1 1 1 1 1 1\n",
        "1 1 1 1 1 1 0 1 1 1 1 1 1 1 1 1\n",
        "1 1 1 1 1 1 1 0 1 1 1 1 1 1 1 1\n",
        "1 1 1 1 1 1 1 1 0 1 1 1 1 1 1 1\n",
        "1 1 1 1 1 1 1 1 1 0 1 1 1 1 1 1\n",
        "1 1 1 1 1 1 1 1 1 1 0 1 1 1 1 1\n",
        "1 1 1 1 1 1 1 1 1 1 1 0 1 1 1 1\n",
        "1 1 1 1 1 1 1 1 1 1 1 1 0 1 1 1\n",
        "1 1 1 1 1 1 1 1 1 1 1 1 1 0 0 0\n",
        "1 1 1 1 1 1 1 1 1 1 1 1 1 0 0 0\n",
        "1 1 1 1 1 1 1 1 1 1 1 1 1 0 0 0"
      ],
      "metadata": {
        "colab": {
          "base_uri": "https://localhost:8080/"
        },
        "id": "dPZ0QgqVYrBG",
        "outputId": "9cca90bf-fefc-454d-db7a-e32fe1ad01ca"
      },
      "execution_count": 27,
      "outputs": [
        {
          "output_type": "stream",
          "name": "stdout",
          "text": [
            "Writing test16c.txt\n"
          ]
        }
      ]
    },
    {
      "cell_type": "code",
      "source": [
        "!python python_cuda.py test16c.txt"
      ],
      "metadata": {
        "colab": {
          "base_uri": "https://localhost:8080/"
        },
        "id": "DetcqBurYysX",
        "outputId": "a0784ec6-b0a4-4fc3-94a4-8d501f317348"
      },
      "execution_count": 28,
      "outputs": [
        {
          "output_type": "stream",
          "name": "stdout",
          "text": [
            "Time required to carry out the computation:  0.5473628044128418\n",
            "The size of the maximum independent set is:  6\n"
          ]
        }
      ]
    }
  ]
}