{
  "nbformat": 4,
  "nbformat_minor": 0,
  "metadata": {
    "colab": {
      "provenance": [],
      "authorship_tag": "ABX9TyO7B95gvvH+je09/TIx+hCS",
      "include_colab_link": true
    },
    "kernelspec": {
      "name": "python3",
      "display_name": "Python 3"
    },
    "language_info": {
      "name": "python"
    }
  },
  "cells": [
    {
      "cell_type": "markdown",
      "metadata": {
        "id": "view-in-github",
        "colab_type": "text"
      },
      "source": [
        "<a href=\"https://colab.research.google.com/github/trefftzc/cis677/blob/main/max_ind_set_openmp_gpu.ipynb\" target=\"_parent\"><img src=\"https://colab.research.google.com/assets/colab-badge.svg\" alt=\"Open In Colab\"/></a>"
      ]
    },
    {
      "cell_type": "markdown",
      "source": [
        "#Maximum Independent Set on GPUs using OMP\n"
      ],
      "metadata": {
        "id": "BL8jXF70pS30"
      }
    },
    {
      "cell_type": "markdown",
      "source": [
        "# THe main pragma directives: target and loop\n"
      ],
      "metadata": {
        "id": "rq5j3455pi7a"
      }
    },
    {
      "cell_type": "code",
      "execution_count": 57,
      "metadata": {
        "colab": {
          "base_uri": "https://localhost:8080/"
        },
        "id": "OGov7KropRMu",
        "outputId": "c038b732-fb62-4e45-95f6-2f1018b4877b"
      },
      "outputs": [
        {
          "output_type": "stream",
          "name": "stdout",
          "text": [
            "Overwriting max_ind_set_omp_gpu.cc\n"
          ]
        }
      ],
      "source": [
        "%%writefile max_ind_set_omp_gpu.cc\n",
        "/*\n",
        " *\n",
        " * Solve the Maximum Independent Set problem on GPUs using OpenMP\n",
        " *\n",
        " * https://en.wikipedia.org/wiki/Independent_set_(graph_theory)\n",
        " * This code works for graphs of up to 32 nodes\n",
        " * The input is expected to be as follows:\n",
        " * The first line will contain n, the number of elements in the multiset\n",
        " * The remaining n lines will contain the adjacency matrix\n",
        " */\n",
        "#include <omp.h>\n",
        "#include <vector>\n",
        "#include <iostream>\n",
        "#include <sstream>\n",
        "#include <string>\n",
        "\n",
        "using namespace std;\n",
        "\n",
        "// This functions evaluates a particular subset of nodes.\n",
        "// adjMat is the adjacency\n",
        "// n is the size of the number of nodes in the graph\n",
        "// value is an integer value. The binary code of value\n",
        "//\n",
        "\n",
        "int evaluateSubSet(  int value, int n, vector < vector < int> >& adjMat) {\n",
        "  vector < int > set(n,0);\n",
        "  unsigned int mask = 1;\n",
        "  int bitCount = 0;\n",
        "  for(int i = 0;i < n;i++) {\n",
        "    if ((mask & value) != 0) {\n",
        "      set[i] = 1;\n",
        "      bitCount++;\n",
        "    }\n",
        "    mask = mask * 2;\n",
        "  }\n",
        "  for(int i = 0;i < n;i++) {\n",
        "    for(int j = i+1;j < n;j++) {\n",
        "      if (set[i] == 1 && set[j] == 1 && adjMat[i][j] == 1) {\n",
        "        return 0;\n",
        "      }\n",
        "    }\n",
        "  }\n",
        "  return bitCount;\n",
        "}\n",
        "\n",
        "void printResults(unsigned int value,int n)\n",
        "{\n",
        "\n",
        "\n",
        "  unsigned int mask = 1;\n",
        "  int sum = 0;\n",
        "  cout << \"An independent set with the maximum number of nodes is: \" << endl;\n",
        "  for(int i = 0;i < n;i++) {\n",
        "    if ((mask & value) != 0) {\n",
        "      cout << i << \" \";\n",
        "    }\n",
        "    mask = mask * 2;\n",
        "  }\n",
        "  cout << endl;\n",
        "}\n",
        "\n",
        "// The main function\n",
        "int main() {\n",
        "\n",
        "  int n;\n",
        "\n",
        "// The format of the input is\n",
        "// an integer value n with the size of the multiset\n",
        "// n integer values with the multiset\n",
        "\n",
        "  vector < vector < int> > adjMat;\n",
        "  string line;\n",
        "  getline(cin,line);\n",
        "  stringstream ss(line);\n",
        "  ss >> n;\n",
        "  // Read input line by line until EOF\n",
        "  while (std::getline(cin, line)) {\n",
        "        stringstream ss(line);\n",
        "        vector<int> row;\n",
        "        int num;\n",
        "        while (ss >> num) {\n",
        "          //cout << num << \" \";\n",
        "          row.push_back(num);\n",
        "        }\n",
        "        //cout << \"Size of row: \" << row.size() << endl;\n",
        "        adjMat.push_back(row);\n",
        "        //cout << endl;\n",
        "  }\n",
        "  cout << \"The size of the graph is: \" << n << endl;\n",
        "  cout << \"The number of rows in the adjacency matrix is: \" << adjMat.size() << endl;\n",
        "  cout << \"The number of columns in the adjacency matrix is: \" << adjMat[0].size() << endl;\n",
        "\n",
        "// Print the adjacency matrix\n",
        "\n",
        "  cout << \"The adjacency matrix is : \" << endl;\n",
        "  for(int i = 0;i < n;i++) {\n",
        "    for(int j = 0;j < n;j++) {\n",
        "      cout << adjMat[i][j] << \" \";\n",
        "    }\n",
        "    cout << endl;\n",
        "  }\n",
        "\n",
        "// Calculate the set of the power set\n",
        "  unsigned int powerOf2 = 1;\n",
        "  for(int i = 0;i < n;i++) {\n",
        "    powerOf2 = powerOf2 * 2;\n",
        "  }\n",
        "  // printf(\"The number of possible partitions is: %d\\n\",nPartitions);\n",
        "  // Only half of all possible partitions need be examined\n",
        "  // The second half is symmetrical to the first half\n",
        "  cout << \"The size of the power set is: \" << powerOf2 << endl;\n",
        "  vector < int > results(powerOf2,0);\n",
        "\n",
        "\n",
        "\n",
        "  #pragma omp target\n",
        "  #pragma omp loop\n",
        "  for(int i = 0;i < (powerOf2);i++) {\n",
        "    results[i] = evaluateSubSet(i,n,adjMat);\n",
        "  }\n",
        "  int n_threads = omp_get_num_threads();\n",
        "  int solution = 0;\n",
        "\n",
        "\n",
        "  vector < int > solutionFound (n_threads,0);\n",
        "  vector < int > maxThisThread(n_threads,0);\n",
        "  #pragma omp parallel for reduction(max:solution)\n",
        "  for(int i = 0;i < (powerOf2);i++) {\n",
        "    if (results[i] > solution) {\n",
        "      solution = results[i];\n",
        "      maxThisThread[omp_get_thread_num()] = results[i];\n",
        "      solutionFound[omp_get_thread_num()] = i;\n",
        "    }\n",
        "  }\n",
        "  cout << \"The maximum number of nodes in the independent set is: \" << solution << endl;\n",
        "  for(int i = 0; i < n_threads;i++) {\n",
        "    if (maxThisThread[i] == solution) {\n",
        "      printResults(solutionFound[i],n);\n",
        "    }\n",
        "\n",
        "  }\n",
        "\n",
        "}"
      ]
    },
    {
      "cell_type": "code",
      "source": [
        "!c++ max_ind_set_omp_gpu.cc -o max_ind_set_omp_gpu -fopenmp"
      ],
      "metadata": {
        "id": "G_oFV21BtikU"
      },
      "execution_count": 58,
      "outputs": []
    },
    {
      "cell_type": "markdown",
      "source": [
        "# Test matrices"
      ],
      "metadata": {
        "id": "xSnKvI4wsjPc"
      }
    },
    {
      "cell_type": "code",
      "source": [
        "%%writefile k16.txt\n",
        "16\n",
        "0 1 1 1 1 1 1 1 1 1 1 1 1 1 1 1\n",
        "1 0 1 1 1 1 1 1 1 1 1 1 1 1 1 1\n",
        "1 1 0 1 1 1 1 1 1 1 1 1 1 1 1 1\n",
        "1 1 1 0 1 1 1 1 1 1 1 1 1 1 1 1\n",
        "1 1 1 1 0 1 1 1 1 1 1 1 1 1 1 1\n",
        "1 1 1 1 1 0 1 1 1 1 1 1 1 1 1 1\n",
        "1 1 1 1 1 1 0 1 1 1 1 1 1 1 1 1\n",
        "1 1 1 1 1 1 1 0 1 1 1 1 1 1 1 1\n",
        "1 1 1 1 1 1 1 1 0 1 1 1 1 1 1 1\n",
        "1 1 1 1 1 1 1 1 1 0 1 1 1 1 1 1\n",
        "1 1 1 1 1 1 1 1 1 1 0 1 1 1 1 1\n",
        "1 1 1 1 1 1 1 1 1 1 1 0 1 1 1 1\n",
        "1 1 1 1 1 1 1 1 1 1 1 1 0 1 1 1\n",
        "1 1 1 1 1 1 1 1 1 1 1 1 1 0 1 1\n",
        "1 1 1 1 1 1 1 1 1 1 1 1 1 1 0 1\n",
        "1 1 1 1 1 1 1 1 1 1 1 1 1 1 1 0"
      ],
      "metadata": {
        "colab": {
          "base_uri": "https://localhost:8080/"
        },
        "id": "NXCZjtm3skwb",
        "outputId": "eb221c7b-b1e2-4c59-d797-cc8935f7107d"
      },
      "execution_count": 11,
      "outputs": [
        {
          "output_type": "stream",
          "name": "stdout",
          "text": [
            "Writing k16.txt\n"
          ]
        }
      ]
    },
    {
      "cell_type": "code",
      "source": [
        "!time ./max_ind_set_omp_gpu < k16.txt\n"
      ],
      "metadata": {
        "colab": {
          "base_uri": "https://localhost:8080/"
        },
        "id": "ak-sXX8UpxXb",
        "outputId": "69007489-d968-44bb-d948-bb14bf62d2a4"
      },
      "execution_count": 59,
      "outputs": [
        {
          "output_type": "stream",
          "name": "stdout",
          "text": [
            "The size of the graph is: 16\n",
            "The number of rows in the adjacency matrix is: 16\n",
            "The number of columns in the adjacency matrix is: 16\n",
            "The adjacency matrix is : \n",
            "0 1 1 1 1 1 1 1 1 1 1 1 1 1 1 1 \n",
            "1 0 1 1 1 1 1 1 1 1 1 1 1 1 1 1 \n",
            "1 1 0 1 1 1 1 1 1 1 1 1 1 1 1 1 \n",
            "1 1 1 0 1 1 1 1 1 1 1 1 1 1 1 1 \n",
            "1 1 1 1 0 1 1 1 1 1 1 1 1 1 1 1 \n",
            "1 1 1 1 1 0 1 1 1 1 1 1 1 1 1 1 \n",
            "1 1 1 1 1 1 0 1 1 1 1 1 1 1 1 1 \n",
            "1 1 1 1 1 1 1 0 1 1 1 1 1 1 1 1 \n",
            "1 1 1 1 1 1 1 1 0 1 1 1 1 1 1 1 \n",
            "1 1 1 1 1 1 1 1 1 0 1 1 1 1 1 1 \n",
            "1 1 1 1 1 1 1 1 1 1 0 1 1 1 1 1 \n",
            "1 1 1 1 1 1 1 1 1 1 1 0 1 1 1 1 \n",
            "1 1 1 1 1 1 1 1 1 1 1 1 0 1 1 1 \n",
            "1 1 1 1 1 1 1 1 1 1 1 1 1 0 1 1 \n",
            "1 1 1 1 1 1 1 1 1 1 1 1 1 1 0 1 \n",
            "1 1 1 1 1 1 1 1 1 1 1 1 1 1 1 0 \n",
            "The size of the power set is: 65536\n",
            "The maximum number of nodes in the independent set is: 1\n",
            "An independent set with the maximum number of nodes is: \n",
            "0 \n",
            "\n",
            "real\t0m0.038s\n",
            "user\t0m0.032s\n",
            "sys\t0m0.004s\n"
          ]
        }
      ]
    },
    {
      "cell_type": "code",
      "source": [
        "%%writefile test16b.txt\n",
        "16\n",
        "0 0 0 0 0 0 1 1 1 1 1 1 1 1 1 1\n",
        "0 0 0 0 0 0 1 1 1 1 1 1 1 1 1 1\n",
        "0 0 0 0 0 0 1 1 1 1 1 1 1 1 1 1\n",
        "0 0 0 0 0 0 1 1 1 1 1 1 1 1 1 1\n",
        "0 0 0 0 0 0 1 1 1 1 1 1 1 1 1 1\n",
        "0 0 0 0 0 0 1 1 1 1 1 1 1 1 1 1\n",
        "1 1 1 1 1 1 0 1 1 1 1 1 1 1 1 1\n",
        "1 1 1 1 1 1 1 0 1 1 1 1 1 1 1 1\n",
        "1 1 1 1 1 1 1 1 0 1 1 1 1 1 1 1\n",
        "1 1 1 1 1 1 1 1 1 0 1 1 1 1 1 1\n",
        "1 1 1 1 1 1 1 1 1 1 0 1 1 1 1 1\n",
        "1 1 1 1 1 1 1 1 1 1 1 0 1 1 1 1\n",
        "1 1 1 1 1 1 1 1 1 1 1 1 0 1 1 1\n",
        "1 1 1 1 1 1 1 1 1 1 1 1 1 0 1 1\n",
        "1 1 1 1 1 1 1 1 1 1 1 1 1 1 0 1\n",
        "1 1 1 1 1 1 1 1 1 1 1 1 1 1 1 0"
      ],
      "metadata": {
        "colab": {
          "base_uri": "https://localhost:8080/"
        },
        "id": "eh_T8KT60Ijk",
        "outputId": "8c31e028-cb24-426b-f9f2-6781677b72a0"
      },
      "execution_count": 44,
      "outputs": [
        {
          "output_type": "stream",
          "name": "stdout",
          "text": [
            "Writing test16b.txt\n"
          ]
        }
      ]
    },
    {
      "cell_type": "code",
      "source": [
        "!time ./max_ind_set_omp_gpu < test16b.txt"
      ],
      "metadata": {
        "colab": {
          "base_uri": "https://localhost:8080/"
        },
        "id": "hshBKHlL0LRM",
        "outputId": "2abc21f2-597d-4cea-e029-4996add3b07e"
      },
      "execution_count": 60,
      "outputs": [
        {
          "output_type": "stream",
          "name": "stdout",
          "text": [
            "The size of the graph is: 16\n",
            "The number of rows in the adjacency matrix is: 16\n",
            "The number of columns in the adjacency matrix is: 16\n",
            "The adjacency matrix is : \n",
            "0 0 0 0 0 0 1 1 1 1 1 1 1 1 1 1 \n",
            "0 0 0 0 0 0 1 1 1 1 1 1 1 1 1 1 \n",
            "0 0 0 0 0 0 1 1 1 1 1 1 1 1 1 1 \n",
            "0 0 0 0 0 0 1 1 1 1 1 1 1 1 1 1 \n",
            "0 0 0 0 0 0 1 1 1 1 1 1 1 1 1 1 \n",
            "0 0 0 0 0 0 1 1 1 1 1 1 1 1 1 1 \n",
            "1 1 1 1 1 1 0 1 1 1 1 1 1 1 1 1 \n",
            "1 1 1 1 1 1 1 0 1 1 1 1 1 1 1 1 \n",
            "1 1 1 1 1 1 1 1 0 1 1 1 1 1 1 1 \n",
            "1 1 1 1 1 1 1 1 1 0 1 1 1 1 1 1 \n",
            "1 1 1 1 1 1 1 1 1 1 0 1 1 1 1 1 \n",
            "1 1 1 1 1 1 1 1 1 1 1 0 1 1 1 1 \n",
            "1 1 1 1 1 1 1 1 1 1 1 1 0 1 1 1 \n",
            "1 1 1 1 1 1 1 1 1 1 1 1 1 0 1 1 \n",
            "1 1 1 1 1 1 1 1 1 1 1 1 1 1 0 1 \n",
            "1 1 1 1 1 1 1 1 1 1 1 1 1 1 1 0 \n",
            "The size of the power set is: 65536\n",
            "The maximum number of nodes in the independent set is: 6\n",
            "An independent set with the maximum number of nodes is: \n",
            "0 1 2 3 4 5 \n",
            "\n",
            "real\t0m0.050s\n",
            "user\t0m0.046s\n",
            "sys\t0m0.002s\n"
          ]
        }
      ]
    },
    {
      "cell_type": "code",
      "source": [
        "%%writefile test16c.txt\n",
        "16\n",
        "0 0 0 0 0 0 1 1 1 1 1 1 1 1 1 1\n",
        "0 0 0 0 0 0 1 1 1 1 1 1 1 1 1 1\n",
        "0 0 0 0 0 0 1 1 1 1 1 1 1 1 1 1\n",
        "0 0 0 0 0 0 1 1 1 1 1 1 1 1 1 1\n",
        "0 0 0 0 0 0 1 1 1 1 1 1 1 1 1 1\n",
        "0 0 0 0 0 0 1 1 1 1 1 1 1 1 1 1\n",
        "1 1 1 1 1 1 0 1 1 1 1 1 1 1 1 1\n",
        "1 1 1 1 1 1 1 0 1 1 1 1 1 1 1 1\n",
        "1 1 1 1 1 1 1 1 0 1 1 1 1 1 1 1\n",
        "1 1 1 1 1 1 1 1 1 0 1 1 1 1 1 1\n",
        "1 1 1 1 1 1 1 1 1 1 0 1 1 1 1 1\n",
        "1 1 1 1 1 1 1 1 1 1 1 0 1 1 1 1\n",
        "1 1 1 1 1 1 1 1 1 1 1 1 0 1 1 1\n",
        "1 1 1 1 1 1 1 1 1 1 1 1 1 0 0 0\n",
        "1 1 1 1 1 1 1 1 1 1 1 1 1 0 0 0\n",
        "1 1 1 1 1 1 1 1 1 1 1 1 1 0 0 0"
      ],
      "metadata": {
        "colab": {
          "base_uri": "https://localhost:8080/"
        },
        "id": "HQGxP93q1GLW",
        "outputId": "56a9d36b-7bda-4aab-da04-984bbd752a72"
      },
      "execution_count": 47,
      "outputs": [
        {
          "output_type": "stream",
          "name": "stdout",
          "text": [
            "Writing test16c.txt\n"
          ]
        }
      ]
    },
    {
      "cell_type": "code",
      "source": [
        "!time ./max_ind_set_omp_gpu < test16c.txt"
      ],
      "metadata": {
        "colab": {
          "base_uri": "https://localhost:8080/"
        },
        "id": "h5qND8PA1JR9",
        "outputId": "55e1849c-1c95-430a-9ab8-0c55d900ebea"
      },
      "execution_count": 61,
      "outputs": [
        {
          "output_type": "stream",
          "name": "stdout",
          "text": [
            "The size of the graph is: 16\n",
            "The number of rows in the adjacency matrix is: 16\n",
            "The number of columns in the adjacency matrix is: 16\n",
            "The adjacency matrix is : \n",
            "0 0 0 0 0 0 1 1 1 1 1 1 1 1 1 1 \n",
            "0 0 0 0 0 0 1 1 1 1 1 1 1 1 1 1 \n",
            "0 0 0 0 0 0 1 1 1 1 1 1 1 1 1 1 \n",
            "0 0 0 0 0 0 1 1 1 1 1 1 1 1 1 1 \n",
            "0 0 0 0 0 0 1 1 1 1 1 1 1 1 1 1 \n",
            "0 0 0 0 0 0 1 1 1 1 1 1 1 1 1 1 \n",
            "1 1 1 1 1 1 0 1 1 1 1 1 1 1 1 1 \n",
            "1 1 1 1 1 1 1 0 1 1 1 1 1 1 1 1 \n",
            "1 1 1 1 1 1 1 1 0 1 1 1 1 1 1 1 \n",
            "1 1 1 1 1 1 1 1 1 0 1 1 1 1 1 1 \n",
            "1 1 1 1 1 1 1 1 1 1 0 1 1 1 1 1 \n",
            "1 1 1 1 1 1 1 1 1 1 1 0 1 1 1 1 \n",
            "1 1 1 1 1 1 1 1 1 1 1 1 0 1 1 1 \n",
            "1 1 1 1 1 1 1 1 1 1 1 1 1 0 0 0 \n",
            "1 1 1 1 1 1 1 1 1 1 1 1 1 0 0 0 \n",
            "1 1 1 1 1 1 1 1 1 1 1 1 1 0 0 0 \n",
            "The size of the power set is: 65536\n",
            "The maximum number of nodes in the independent set is: 6\n",
            "An independent set with the maximum number of nodes is: \n",
            "0 1 2 3 4 5 \n",
            "\n",
            "real\t0m0.062s\n",
            "user\t0m0.055s\n",
            "sys\t0m0.003s\n"
          ]
        }
      ]
    },
    {
      "cell_type": "code",
      "source": [
        "%%writefile k20.txt\n",
        "20\n",
        "0 1 1 1 1 1 1 1 1 1 1 1 1 1 1 1 1 1 1 1\n",
        "1 0 1 1 1 1 1 1 1 1 1 1 1 1 1 1 1 1 1 1\n",
        "1 1 0 1 1 1 1 1 1 1 1 1 1 1 1 1 1 1 1 1\n",
        "1 1 1 0 1 1 1 1 1 1 1 1 1 1 1 1 1 1 1 1\n",
        "1 1 1 1 0 1 1 1 1 1 1 1 1 1 1 1 1 1 1 1\n",
        "1 1 1 1 1 0 1 1 1 1 1 1 1 1 1 1 1 1 1 1\n",
        "1 1 1 1 1 1 0 1 1 1 1 1 1 1 1 1 1 1 1 1\n",
        "1 1 1 1 1 1 1 0 1 1 1 1 1 1 1 1 1 1 1 1\n",
        "1 1 1 1 1 1 1 1 0 1 1 1 1 1 1 1 1 1 1 1\n",
        "1 1 1 1 1 1 1 1 1 0 1 1 1 1 1 1 1 1 1 1\n",
        "1 1 1 1 1 1 1 1 1 1 0 1 1 1 1 1 1 1 1 1\n",
        "1 1 1 1 1 1 1 1 1 1 1 0 1 1 1 1 1 1 1 1\n",
        "1 1 1 1 1 1 1 1 1 1 1 1 0 1 1 1 1 1 1 1\n",
        "1 1 1 1 1 1 1 1 1 1 1 1 1 0 1 1 1 1 1 1\n",
        "1 1 1 1 1 1 1 1 1 1 1 1 1 1 0 1 1 1 1 1\n",
        "1 1 1 1 1 1 1 1 1 1 1 1 1 1 1 0 1 1 1 1\n",
        "1 1 1 1 1 1 1 1 1 1 1 1 1 1 1 1 0 1 1 1\n",
        "1 1 1 1 1 1 1 1 1 1 1 1 1 1 1 1 1 0 1 1\n",
        "1 1 1 1 1 1 1 1 1 1 1 1 1 1 1 1 1 1 0 1\n",
        "1 1 1 1 1 1 1 1 1 1 1 1 1 1 1 1 1 1 1 0"
      ],
      "metadata": {
        "colab": {
          "base_uri": "https://localhost:8080/"
        },
        "id": "X34d2bBg3F5n",
        "outputId": "31b89066-12d1-4055-9951-b66848055223"
      },
      "execution_count": 64,
      "outputs": [
        {
          "output_type": "stream",
          "name": "stdout",
          "text": [
            "Writing k20.txt\n"
          ]
        }
      ]
    },
    {
      "cell_type": "code",
      "source": [
        "!time ./max_ind_set_omp_gpu < k20.txt"
      ],
      "metadata": {
        "colab": {
          "base_uri": "https://localhost:8080/"
        },
        "id": "ODM3zxhN3ILc",
        "outputId": "a2747695-bf53-4a0a-df0a-a2c62fbb5b9d"
      },
      "execution_count": 65,
      "outputs": [
        {
          "output_type": "stream",
          "name": "stdout",
          "text": [
            "The size of the graph is: 20\n",
            "The number of rows in the adjacency matrix is: 20\n",
            "The number of columns in the adjacency matrix is: 20\n",
            "The adjacency matrix is : \n",
            "0 1 1 1 1 1 1 1 1 1 1 1 1 1 1 1 1 1 1 1 \n",
            "1 0 1 1 1 1 1 1 1 1 1 1 1 1 1 1 1 1 1 1 \n",
            "1 1 0 1 1 1 1 1 1 1 1 1 1 1 1 1 1 1 1 1 \n",
            "1 1 1 0 1 1 1 1 1 1 1 1 1 1 1 1 1 1 1 1 \n",
            "1 1 1 1 0 1 1 1 1 1 1 1 1 1 1 1 1 1 1 1 \n",
            "1 1 1 1 1 0 1 1 1 1 1 1 1 1 1 1 1 1 1 1 \n",
            "1 1 1 1 1 1 0 1 1 1 1 1 1 1 1 1 1 1 1 1 \n",
            "1 1 1 1 1 1 1 0 1 1 1 1 1 1 1 1 1 1 1 1 \n",
            "1 1 1 1 1 1 1 1 0 1 1 1 1 1 1 1 1 1 1 1 \n",
            "1 1 1 1 1 1 1 1 1 0 1 1 1 1 1 1 1 1 1 1 \n",
            "1 1 1 1 1 1 1 1 1 1 0 1 1 1 1 1 1 1 1 1 \n",
            "1 1 1 1 1 1 1 1 1 1 1 0 1 1 1 1 1 1 1 1 \n",
            "1 1 1 1 1 1 1 1 1 1 1 1 0 1 1 1 1 1 1 1 \n",
            "1 1 1 1 1 1 1 1 1 1 1 1 1 0 1 1 1 1 1 1 \n",
            "1 1 1 1 1 1 1 1 1 1 1 1 1 1 0 1 1 1 1 1 \n",
            "1 1 1 1 1 1 1 1 1 1 1 1 1 1 1 0 1 1 1 1 \n",
            "1 1 1 1 1 1 1 1 1 1 1 1 1 1 1 1 0 1 1 1 \n",
            "1 1 1 1 1 1 1 1 1 1 1 1 1 1 1 1 1 0 1 1 \n",
            "1 1 1 1 1 1 1 1 1 1 1 1 1 1 1 1 1 1 0 1 \n",
            "1 1 1 1 1 1 1 1 1 1 1 1 1 1 1 1 1 1 1 0 \n",
            "The size of the power set is: 1048576\n",
            "The maximum number of nodes in the independent set is: 1\n",
            "An independent set with the maximum number of nodes is: \n",
            "0 \n",
            "\n",
            "real\t0m0.578s\n",
            "user\t0m0.571s\n",
            "sys\t0m0.004s\n"
          ]
        }
      ]
    }
  ]
}